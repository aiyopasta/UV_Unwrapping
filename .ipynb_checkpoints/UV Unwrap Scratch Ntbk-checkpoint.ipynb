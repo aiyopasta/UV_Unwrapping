{
 "cells": [
  {
   "cell_type": "markdown",
   "id": "b32b4269",
   "metadata": {},
   "source": [
    "## UV Unwrap Scratch Ntbk"
   ]
  },
  {
   "cell_type": "code",
   "execution_count": null,
   "id": "c07b8863",
   "metadata": {},
   "outputs": [],
   "source": []
  }
 ],
 "metadata": {
  "kernelspec": {
   "display_name": "Python 3 (ipykernel)",
   "language": "python",
   "name": "python3"
  },
  "language_info": {
   "codemirror_mode": {
    "name": "ipython",
    "version": 3
   },
   "file_extension": ".py",
   "mimetype": "text/x-python",
   "name": "python",
   "nbconvert_exporter": "python",
   "pygments_lexer": "ipython3",
   "version": "3.10.0"
  }
 },
 "nbformat": 4,
 "nbformat_minor": 5
}
